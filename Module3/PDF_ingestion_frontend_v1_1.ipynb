{
  "cells": [
    {
      "cell_type": "markdown",
      "metadata": {
        "id": "7Y10pmtWPGCf"
      },
      "source": [
        "# LLM Powered Graph Queries"
      ]
    },
    {
      "cell_type": "markdown",
      "metadata": {
        "id": "EKyxrf1hPOlo"
      },
      "source": [
        "## Environment Set-up"
      ]
    },
    {
      "cell_type": "code",
      "execution_count": 1,
      "metadata": {
        "id": "SynoVY8dkm78"
      },
      "outputs": [],
      "source": [
        "%%capture\n",
        "%pip uninstall openai langchain-openai langchain_community langchain"
      ]
    },
    {
      "cell_type": "code",
      "execution_count": 26,
      "metadata": {
        "id": "H44GKnYwMIOC"
      },
      "outputs": [],
      "source": [
        "%%capture\n",
        "%pip install openai langchain-openai langchain_community langchain\n",
        "%pip install graphdatascience"
      ]
    },
    {
      "cell_type": "code",
      "execution_count": 22,
      "metadata": {
        "id": "FtWDT_MmM-YP"
      },
      "outputs": [],
      "source": [
        "#Get your Sandbox credentials and enter them here below\n",
        "\n",
        "connectionUrl = 'bolt://54.211.73.159:7687'\n",
        "username = 'neo4j'\n",
        "password = 'timers-basin-topic'"
      ]
    },
    {
      "cell_type": "code",
      "execution_count": 9,
      "metadata": {
        "id": "HXHdVROhsUYZ"
      },
      "outputs": [],
      "source": [
        "import os\n",
        "import openai"
      ]
    },
    {
      "cell_type": "markdown",
      "metadata": {
        "id": "dRAJmpu_PRlh"
      },
      "source": [
        "### Check our OpenAI connection"
      ]
    },
    {
      "cell_type": "code",
      "execution_count": null,
      "metadata": {
        "id": "z1FmlG3sZuzg"
      },
      "outputs": [],
      "source": [
        "from google.colab import userdata\n",
        "os.environ[\"OPENAI_API_KEY\"] = userdata.get('open_key')\n",
        "openai.api_key = os.getenv('OPENAI_API_KEY')"
      ]
    },
    {
      "cell_type": "code",
      "execution_count": null,
      "metadata": {
        "id": "oGtTWoEiM-NS"
      },
      "outputs": [],
      "source": [
        "from langchain_openai import OpenAI\n",
        "\n",
        "llm = OpenAI(openai_api_key=openai.api_key )\n",
        "\n",
        "response = llm.invoke(\"What is Neo4j?\")\n",
        "\n",
        "print(response)"
      ]
    },
    {
      "cell_type": "markdown",
      "metadata": {
        "id": "0OzCQ8f8PVzX"
      },
      "source": [
        "## Text to Query"
      ]
    },
    {
      "cell_type": "markdown",
      "metadata": {
        "id": "FutRVdfd0W26"
      },
      "source": [
        "Run a simple example query - testing the connection"
      ]
    },
    {
      "cell_type": "code",
      "execution_count": null,
      "metadata": {
        "id": "PohyzC9frTVO"
      },
      "outputs": [],
      "source": [
        "from langchain_community.graphs import Neo4jGraph\n",
        "\n",
        "graph = Neo4jGraph(\n",
        "    url=connectionUrl,\n",
        "    username=\"neo4j\",\n",
        "    password=password\n",
        ")\n",
        "\n",
        "result = graph.query(\"\"\"\n",
        "MATCH (n:Paper) return n.name\n",
        "\"\"\")\n",
        "\n",
        "print(result)"
      ]
    },
    {
      "cell_type": "code",
      "execution_count": null,
      "metadata": {
        "id": "DrolIHous75T"
      },
      "outputs": [],
      "source": [
        "print(graph.schema)"
      ]
    },
    {
      "cell_type": "markdown",
      "metadata": {
        "id": "Y2rgcwA20gyj"
      },
      "source": [
        "## Enter your question\n",
        "\n",
        "*Keep it within the confines on the graph schema*"
      ]
    },
    {
      "cell_type": "code",
      "execution_count": null,
      "metadata": {
        "id": "DiGpczR00yoF"
      },
      "outputs": [],
      "source": [
        "search_phrase = input(\"Search phrase:\")"
      ]
    },
    {
      "cell_type": "code",
      "execution_count": null,
      "metadata": {
        "id": "LYx7t1chuJmX"
      },
      "outputs": [],
      "source": [
        "from langchain_openai import ChatOpenAI\n",
        "from langchain_community.graphs import Neo4jGraph\n",
        "from langchain.chains import GraphCypherQAChain\n",
        "from langchain.prompts import PromptTemplate\n",
        "\n",
        "llm = ChatOpenAI(\n",
        "    openai_api_key=\"sk-.....\"\n",
        ")\n",
        "\n",
        "graph = Neo4jGraph(\n",
        "     url=connectionUrl,\n",
        "    username=\"neo4j\",\n",
        "    password=password\n",
        ")\n",
        "\n",
        "CYPHER_GENERATION_TEMPLATE = \"\"\"\n",
        "You are an expert Neo4j Developer translating user questions into Cypher to answer questions about movies and provide recommendations.\n",
        "Convert the user's question based on the schema.\n",
        "\n",
        "Schema: {schema}\n",
        "Question: {question}\n",
        "\"\"\"\n",
        "\n",
        "cypher_generation_prompt = PromptTemplate(\n",
        "    template=CYPHER_GENERATION_TEMPLATE,\n",
        "    input_variables=[\"schema\", \"question\"],\n",
        ")\n",
        "\n",
        "cypher_chain = GraphCypherQAChain.from_llm(\n",
        "    llm,\n",
        "    graph=graph,\n",
        "    cypher_prompt=cypher_generation_prompt,\n",
        "    verbose=True\n",
        ")\n",
        "\n",
        "cypher_chain.invoke({\"query\": search_phrase})"
      ]
    }
  ],
  "metadata": {
    "colab": {
      "provenance": []
    },
    "kernelspec": {
      "display_name": "Python 3",
      "name": "python3"
    },
    "language_info": {
      "name": "python"
    }
  },
  "nbformat": 4,
  "nbformat_minor": 0
}
