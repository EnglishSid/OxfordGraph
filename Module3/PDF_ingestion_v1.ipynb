{
  "cells": [
    {
      "cell_type": "markdown",
      "id": "26f65668",
      "metadata": {
        "id": "26f65668"
      },
      "source": [
        "# LLM Powered PDF Ingestion\n",
        "## Outline\n",
        "1. Data Cleansing\n",
        "2. Prompt Definition\n",
        "3. Entity & Relationship Extraction\n",
        "4. Neo4j Cypher Generation\n",
        "5. Data Ingestion"
      ]
    },
    {
      "cell_type": "markdown",
      "id": "EnZ9EJN_RdOK",
      "metadata": {
        "id": "EnZ9EJN_RdOK"
      },
      "source": [
        "## Environment Set-up"
      ]
    },
    {
      "cell_type": "markdown",
      "id": "W-0KeIjbQLqq",
      "metadata": {
        "id": "W-0KeIjbQLqq"
      },
      "source": [
        "Before starting this exercise, prepare your Neo4j Sandbox instance\n",
        "\n",
        "[Neo4j Sandbox](https://neo4j.com/sandbox/)"
      ]
    },
    {
      "cell_type": "code",
      "execution_count": 81,
      "id": "p_ZlsuLtcj8C",
      "metadata": {
        "id": "p_ZlsuLtcj8C"
      },
      "outputs": [],
      "source": [
        "#Get your Sandbox credentials and enter them here below\n",
        "\n",
        "connectionUrl = 'bolt://18.234.79.182:7687'\n",
        "username = 'neo4j'\n",
        "password = 'seconds-future-knife'"
      ]
    },
    {
      "cell_type": "code",
      "execution_count": 82,
      "id": "61138c34",
      "metadata": {
        "id": "61138c34"
      },
      "outputs": [],
      "source": [
        "%%capture\n",
        "%pip install graphdatascience\n",
        "%pip install openai\n",
        "%pip install python-dotenv\n",
        "%pip install retry\n",
        "%pip install PyPDF2\n",
        "%pip install langchain\n",
        "%pip install sentence-transformers"
      ]
    },
    {
      "cell_type": "code",
      "execution_count": 83,
      "id": "c2c97f1b",
      "metadata": {
        "id": "c2c97f1b"
      },
      "outputs": [],
      "source": [
        "import os\n",
        "import openai\n",
        "from retry import retry\n",
        "import re\n",
        "from string import Template\n",
        "import json\n",
        "import ast\n",
        "import time\n",
        "import pandas as pd\n",
        "from graphdatascience import GraphDataScience\n",
        "import glob\n",
        "from timeit import default_timer as timer\n",
        "from dotenv import load_dotenv"
      ]
    },
    {
      "cell_type": "code",
      "execution_count": 84,
      "id": "IGjag-WrCa57",
      "metadata": {
        "id": "IGjag-WrCa57"
      },
      "outputs": [],
      "source": [
        "os.environ[\"OPENAI_API_KEY\"] = 'sk-0j.........'\n",
        "openai.api_key = os.getenv('OPENAI_API_KEY')"
      ]
    },
    {
      "cell_type": "code",
      "execution_count": 85,
      "id": "f94b81b2",
      "metadata": {
        "id": "f94b81b2"
      },
      "outputs": [],
      "source": [
        "openai.api_key = os.getenv('OPENAI_API_KEY')"
      ]
    },
    {
      "cell_type": "markdown",
      "id": "7d70b41f",
      "metadata": {
        "id": "7d70b41f"
      },
      "source": [
        "## Data Cleansing"
      ]
    },
    {
      "cell_type": "markdown",
      "id": "d89595dc",
      "metadata": {
        "id": "d89595dc"
      },
      "source": [
        "First, let's define a function that can help clean the input data. For the sake of simplicity, lets keep it simple. In the corpus, the data refers to some Figures like scan images. We dont have them and so will remove any such references."
      ]
    },
    {
      "cell_type": "code",
      "execution_count": 86,
      "id": "af73c9ce",
      "metadata": {
        "id": "af73c9ce"
      },
      "outputs": [],
      "source": [
        "def clean_text(text):\n",
        "  clean = \"\\n\".join([row for row in text.split(\"\\n\")])\n",
        "  clean = re.sub(r'\\(fig[^)]*\\)', '', clean, flags=re.IGNORECASE)\n",
        "  return clean"
      ]
    },
    {
      "cell_type": "markdown",
      "id": "5326d17d",
      "metadata": {
        "id": "5326d17d"
      },
      "source": [
        "Let's take this case sheet and extract entities and relations using LLM"
      ]
    },
    {
      "cell_type": "markdown",
      "id": "78yFHu_p9mjn",
      "metadata": {
        "id": "78yFHu_p9mjn"
      },
      "source": [
        "### Source PDF File\n",
        "\n",
        "Example PDF document is the recent \"Building Knowledge Graphs\" book from Jesus Barrasa and Jim Webber"
      ]
    },
    {
      "cell_type": "code",
      "execution_count": 87,
      "id": "Dotc13wcVw0a",
      "metadata": {
        "id": "Dotc13wcVw0a"
      },
      "outputs": [],
      "source": [
        "pdf = 'ukgovai.pdf'"
      ]
    },
    {
      "cell_type": "code",
      "execution_count": 88,
      "id": "MnVtNj1ZVplW",
      "metadata": {
        "id": "MnVtNj1ZVplW"
      },
      "outputs": [],
      "source": [
        "from PyPDF2 import PdfReader\n",
        "\n",
        "pdf_reader = PdfReader(pdf)\n",
        "\n",
        "article_txt = \"\"\n",
        "for page in pdf_reader.pages:\n",
        "    article_txt += page.extract_text()"
      ]
    },
    {
      "cell_type": "code",
      "execution_count": 89,
      "id": "OEGyzS-OV4I8",
      "metadata": {
        "id": "OEGyzS-OV4I8"
      },
      "outputs": [],
      "source": [
        "from langchain.text_splitter import RecursiveCharacterTextSplitter\n",
        "\n",
        "text_splitter = RecursiveCharacterTextSplitter(\n",
        "    chunk_size=1000, chunk_overlap=200, length_function=len\n",
        ")\n",
        "\n",
        "chunks = text_splitter.split_text(text=article_txt)"
      ]
    },
    {
      "cell_type": "code",
      "execution_count": 90,
      "id": "R4F_UQ8kV55J",
      "metadata": {
        "colab": {
          "base_uri": "https://localhost:8080/"
        },
        "id": "R4F_UQ8kV55J",
        "outputId": "1cde8152-29b6-4643-acbe-f02983ba2fd5"
      },
      "outputs": [
        {
          "data": {
            "text/plain": [
              "17"
            ]
          },
          "execution_count": 90,
          "metadata": {},
          "output_type": "execute_result"
        }
      ],
      "source": [
        "len(chunks)"
      ]
    },
    {
      "cell_type": "markdown",
      "id": "bd3236df",
      "metadata": {
        "id": "bd3236df"
      },
      "source": [
        "## Prompt Definition"
      ]
    },
    {
      "cell_type": "markdown",
      "id": "ff224199",
      "metadata": {
        "id": "ff224199"
      },
      "source": [
        "This is a helper function to talk to the LLM with our prompt and text input"
      ]
    },
    {
      "cell_type": "code",
      "execution_count": 91,
      "id": "1d8592a3",
      "metadata": {
        "id": "1d8592a3"
      },
      "outputs": [],
      "source": [
        "# GPT-4 Prompt to complete\n",
        "@retry(tries=2, delay=5)\n",
        "def process_gpt(system,\n",
        "                prompt):\n",
        "\n",
        "    completion = openai.ChatCompletion.create(\n",
        "        # engine=\"gpt-3.5-turbo\",\n",
        "        model=\"gpt-4\",\n",
        "        max_tokens=2500,\n",
        "        # Try to be as deterministic as possible\n",
        "        temperature=0,\n",
        "        messages=[\n",
        "            {\"role\": \"system\", \"content\": system},\n",
        "            {\"role\": \"user\", \"content\": prompt},\n",
        "        ]\n",
        "    )\n",
        "    nlp_results = completion.choices[0].message.content\n",
        "    return nlp_results"
      ]
    },
    {
      "cell_type": "markdown",
      "id": "a52639cd",
      "metadata": {
        "id": "a52639cd"
      },
      "source": [
        "This is a simple prompt to start with. If the processing is very complex, you can also chain the prompts as and when required. I am going to use a single prompt here that helps me to extract the text strictly as per the Entities and Relationships defined. This is a simplification. In the real scenario you have to leverage on Domain experts to define the Ontology systematically and capture the important information. You might also be fine-tuning the model as and when required."
      ]
    },
    {
      "cell_type": "markdown",
      "id": "8_wwzJVXniAp",
      "metadata": {
        "id": "8_wwzJVXniAp"
      },
      "source": [
        "## Prompts\n",
        "\n",
        "Our prompt below is deliberately very generic, we are asking the LLM to extract information from the text and categorize it.  The LLM will also enrich the description of the extract information with supporting information from the LLM."
      ]
    },
    {
      "cell_type": "code",
      "execution_count": 92,
      "id": "tOcdTD1GffHd",
      "metadata": {
        "id": "tOcdTD1GffHd"
      },
      "outputs": [],
      "source": [
        "prompt1=\"\"\"From the text below, extract any Entities & Relationships which are of interest,\n",
        "these could be business concepts, technology, people, locations, processes or finanical values\n",
        "\n",
        "0. ALWAYS FINISH THE OUTPUT. Never send partial responses.  You should aim to extract as many entities from the text as possible\n",
        "\n",
        "1. First look for Entities of interest in the text and generate as a comma-separated format similar to the entity type.\n",
        "  The entity label should be defined by the high level category of the entity extracted, look for common terms and groups and use this as the entity label,\n",
        "  replace the label 'Thing' below with a category label.   The name property should be the short name of the extracted entity\n",
        "  'id' property of each entity must be alphanumberic and must be unique among the entities.\n",
        "  You will be referring to this property to define the relationship between each entity\n",
        "\n",
        "  label:'Paper', name:string, summary:string //Title of the article;`name` property is the title of the paper,\n",
        "  in lowercase & camel-case & should always start with an alphabet; summary is a description as defined within openai\n",
        "  label:'Thing', name:string, summary:string //any item of interest within the text,\n",
        "  in lowercase & camel-case & should always start with an alphabet; summary is a description as defined within openai\n",
        "\n",
        "2. Next generate each relationship as a triples of head, relastionship and tail.  To refer the head and tail entity, use their respective 'id' propertry.\n",
        "   Relationship property should be mentioned within brackets as comma-separated.\n",
        "   They should follow these relationship types below. You will have to generate as many relationships as needed as defined below:\n",
        "    Relationship types:\n",
        "    Paper|MENTIONS|Thing\n",
        "    Thing|RELATES_TO|Thing\n",
        "\n",
        "    The output should look like :\n",
        "{\n",
        "    \"entities\": [{\"label\":\"Paper\",\"id\":string,\"name\":string,\"summary\":string}],\n",
        "    \"relationships\": [\"paper|MENTIONS_PERSON|businesstrend\"]\n",
        "}\n",
        "\n",
        "Case Sheet:\n",
        "$ctext\n",
        "\"\"\""
      ]
    },
    {
      "cell_type": "markdown",
      "id": "mGwzlESB6TS0",
      "metadata": {
        "id": "mGwzlESB6TS0"
      },
      "source": [
        "#### Run the analyse"
      ]
    },
    {
      "cell_type": "code",
      "execution_count": 41,
      "id": "969t1jETFdde",
      "metadata": {
        "colab": {
          "base_uri": "https://localhost:8080/",
          "height": 122
        },
        "id": "969t1jETFdde",
        "outputId": "e78fcd5b-16a9-4c53-d669-15de4c430c96"
      },
      "outputs": [
        {
          "data": {
            "application/vnd.google.colaboratory.intrinsic+json": {
              "type": "string"
            },
            "text/plain": [
              "\"HM Revenue and Customs  – Annual Report and Accounts 202 2 to 202 3 \\n  \\n10  Performance overview  \\nChief Executive’s Review of 2022 to 2023  \\n \\nHMRC is your tax service – we’re here to support \\nyou to get your tax right and make it hard for the \\ndishonest minority to cheat the system . \\nAs Chief Executive – and someone proud to have spent their \\nentire career in the tax department – I see first -hand every day \\nthe vital public service  that my colleagues provide.  I want to \\nthank them  for their hard work during the last financial year.  \\nThere’s no doubt that our work is important  to the nation . The \\nrevenue we generate , £814 billion in the financial year 2022 to \\n2023, is spent by government on the schools, NHS, police and \\nother essential services we all rely on.   \\nWe’ve also successfully maintained a long- term reduction in the UK’s tax gap (the difference \\nbetween the amount of tax that should, in theory, be paid to HMRC and what is actually \\ncollected) from 7.5% of total theoretical tax liabilities in 2005 to 2006, to 4.8 % in 2021 t o 2022.  \\nOf course, we do much more than this . We also help families and the most vulnerable in our \\nsociety by paying Child Benefit  and Tax -Free Childcare and ensuring workers are not paid \\nbelow the National Minimum Wage,  and we help the UK’s economic growth with our work on \\nfreeports and a  customs system that supports the smooth flow of international trade.  \\nTransforming our  service to meet  changing \\ntaxpayer needs  \\nOur aim is to be a trusted, modern tax and \\ncustoms department  – one that collects revenues \\nand keeps the tax gap low while  fitting as \\nseamlessly as possible with how people live their \\nlives and run their businesses .  \\nTo achieve this, we’re becoming an increasingly \\ndigital organisation: the vast majority of our \\ncustomers pay their tax automatically or deal with \\ntheir tax and customs affairs through online \\nservices, without needing to contact us directly  – \\nand satisfaction with our digital services was 82.7% in the last financial year .  \\nIn 2022 to 2023, more than 8 million VAT returns \\nwere successfully submitted using Making Tax \\nDigital- compatible software that talks directly to \\nour systems. This included over 99% of returns \\nfrom businesses over the £85,000 threshold, and \\n98% from those under the threshold.   \\nStudies have shown that this change is making it \\nquicker and easier for businesses to manage their tax affairs –  and it’s predicted to deliver additional Making  tax easier  with the HMRC app \\nMore  and more  customers  are using  the \\nHMRC app - with over 56 million  logins  \\nand over 1 million  new users  in 2022  to \\n2023.  We’ve  developed it to give people \\nsimpler  access to more  information and \\nare regularly  adding more  services.  \\nCustomers  can view their PAYE tax \\ncode and annual  tax summary,  manage  \\ndetails  for tax credits  and Child  Benefit  \\nand use a tax calculator.  Self \\nAssessment  customers  can also file \\ntheir return  and pay their tax bill via the \\napp, with 130,000  having done  so as of \\nJanuary  2023.  \\nPLACEHO\\nLDER \\nIMAGE \\n  \\n11 Performance overview  \\nrevenue of over £3  billion for public services up to the end of 2027 to 2028 by reducing taxpayer \\nerrors . \\nMeanwhile, demand for our digital services is growing. Around 97% of Self Assessment \\ncustomers who completed their returns  by 31 January 2023 filed online – and our digital \\npersonal and business tax accounts, and the HMRC a pp, were accessed 198.7 million times in \\n2022 to 2023,  compared with 61.6 million in 2016 to 2017.  \\nBut it’s also true that 2022 to 2023 was  a challenging period for us across many of our \\ntraditional phone and post services.  Our customer base is growing, with more customers having \\nincreasingly complex needs . For example, the \\nnumber of higher rate taxpayers -  who may need \\nmore active management in the system  - \\nincreased by  17% between financial years 2015  \\nto 2016 and 2022 to 2023 and is likely to grow \\nfurther. We’re also seeing more small business \\ncustomers getting into tax debt, and the average \\nvalue of customers ’ debts increasing.   \\nIn addition , we face an ever tighter  departmental \\nbudget , creat ing significant operational challenges \\nfor us . Put simply, i t’s getting harder to meet our \\nservice standards  using the same approaches that \\nmay have worked in the past .  \\nIn response , we’re driving forward vital  changes to \\nmake us more efficient in serving  customer s and \\nmanaging  their compliance.   \\nThe key to doing this is through quicker  and easier  \\nonline services . We want to reduce the volume of \\ncontact through phone and post  by 30% by 2025 \\ncompared with 2021  to 20 22, enabling many more \\ncustomers to resolve their issues quickly and easily online , and freeing us up to help those who \\nneed extra support .  \\nIn 2023, we’re  improving the digital experience for \\nour customers  by adding a range of services into \\nthe HMRC app and online,  and updating the way customers interact with their digital account so \\nit fits around their tasks and needs. For example, Child Benefit customers can now  complete \\ntheir claim fully online for the first time ever  – and we’re adding more digital features including \\nmaking it easier for customers to change their personal details and request their National Insurance Number online. Although later than originally planned, w e’re also preparing to extend \\nMaking Tax Digital to Self Assessment customers  in phases from 2026.   \\nAt the same time, we’re playing a key role in developing the government’s Target Operating \\nModel  at the UK border , which will set out a roadmap for new import controls and a \\ntechnological transformation that makes it easier for traders to fulfil all their import, export and \\ntransit obligations.  We’re also continuing to support traders moving goods between Great Britain \\nand Northern Ireland, in line with the UK’ s commitments to deliver the Windsor Framework.   \\nWe know the tax system can be complex. Following the closure of the Office of Tax \\nSimplification we will make simplifying the tax system integral to our approach to developing tax policy. Simplification is now very much part of our core day to day work.  Supporting traders  with the new \\nCustoms  Declaration  Service  \\nFrom  1 October  2022 , importers  started  \\nsubmitting all their import  declarations  \\nthrough our modern  Customs  \\nDeclaration Service  (CDS)  platform,  \\nmarking  the end of 30 years  of using  \\nthe old Customs  Handling  of Import  and \\nExport  Freight  (CHIEF)  system.   \\nBy the end of 2022  to 2023 , 38.8 million  \\nimport  declarations  had been made  on \\nCDS . We are now supporting \\nbusinesses  to declar e their exports  on \\nCDS  as well. \\n \\n  \\n PLACEHO\\nLDER \\nIMAGE \\nHM Revenue and Customs  – Annual Report and Accounts 202 2 to 202 3 \\n  \\n12  Performance overview  \\nAll these changes will help to make things easier for our customers  and support growth for \\nbusinesses . Crucially, they will also enable us to operate more efficiently  and focus our support \\non those customers who cannot use digital services or have complex needs.  \\nSupporting customers to get their tax right  \\nIn the short term, we’re reviewing how we deploy \\nour resources to ensure we maximise value for \\nthe taxpayer –  and this means changing the way \\nwe meet customer needs.  \\nI’m disappointed that we didn’t hit our key customer service standards this year and I recognise the inconvenience some customers wi ll \\nhave experienced at times. You can read more about the reasons for this on pages 33  to 34.  \\nWe’re working hard to improve all our service \\nlevels . For those customers who need direct \\nsupport through our post services, I’m pleased \\nthat in 2022 to 2023 we made a large \\nimprovement in the proportion of customer \\ncorrespondence that we turn around within 15 working days, increasing to 72. 7% from 45.5% in \\n2021 to 2022.   \\nWe’re determined to do all we can to be \\nresponsive and to help customers get things right \\n– but that has to mean migrating an ever -\\nincreasing number of our customers onto our \\ndigital services and away from our phone lines so \\nwe are in a much better position to provide specialist support to those that need it , while \\nimproving the customer experience.  \\nAs we make these changes, the standards set out in our Charter will remain at the heart of what \\nwe do.  We’re also helping customers to find  the answers they need more quickly and easily . For \\nexample, customers using our digital assistant are automatic ally find ing the information they are \\nlooking for  in more than two thirds  of cases , with the remainder being handled by HMRC \\nwebchat advisers , and our new telephony platform is continuously improving the way we handle \\nphone calls. We’ve also introduced an online performance dashboard, where customers can \\ncheck current service levels and processing times , reducing the need for progress chasing calls .  \\nEnsuring the right tax gets paid  \\nTo ensure everyone pays the right tax , we have a well-established complianc e strategy  with \\n3 elements : preventing non- compliance, promoting good compliance, and being robust in our \\nresponse to those who bend or break the rules.  \\nThe changes we’re making  to modernise our services , which I’ve described above, are also vital  \\nto this strategy . They aren’t just about improving customer experience,  they also help to en sure \\ncustomers pay the right tax at the outset, rather than fixing problems after they happen.  \\nFor example, the move to  businesses submit ting their VAT returns using Making Tax Digital -\\ncompatible software from April 2022 is helping to reduc e opportunities for  calculation and Delivering  Help  for Households  \\nAs your tax service,  we are able to \\nsupport  many  urgent  government  \\npriorities,  the impact  of which  stretch  well \\nbeyond the tax system.  This year we \\nplayed  a major  role in providing Help for \\nHouseholds  – including delivering  Cost \\nof Living Payments  of up to £650 to \\neligible  tax credits  customers.   \\nWe’ll continue  this support  into 2023  to \\n2024,  with 3 further  payments  of up to \\n£900 for eligible  customers.   \\n \\nPLACEHO\\nLDER \\nIMAGE  \\n  \\n13 Performance overview  \\ntransposition errors . We’re also using more  targeted campaigns , prompts  and nudges , such as \\nhighlight ing to customers if they enter data that doesn’t align with what we expect.  \\nThis is all vital to maintaining  a low tax gap while achieving ever greater cost efficiency.  And \\nwe’re  building  on what is already a strong record: e ach year, around 95% of the tax that’s due \\ngets paid, and the vast majority of our customers pay in full and on time.   \\nIn 2022 to 2023, we delivered £ 34 billion of \\ncompliance yield – our term for money that \\nwould have been lost to the Exchequer if not for \\nour compliance work. While it’s lower than we \\naimed for this year, it’s higher than the 2 \\nprevious financial years.  Read more on page s \\n17 to 18.  \\nOf course, protecting taxpayers from those who \\nbend or break the rules  will always remain a vital \\npart of a trusted tax system . We’ve already \\ninvested in over 4,000 new compliance officers \\nin 2021 to 2022 . We’re also focusing our \\ncriminal investigations on serious frauds – and \\nwe've seen the average value of our criminal \\ncases rise to £ 6.2 million , almost  3 times what it \\nwas in 2016 to 2017.  \\nModernising how HMRC works  \\nTo achieve our aims , we need the right people, \\nskills and technology combined with the right  \\nways of working  using the best tools and data \\nsystems.  We’ve taken important steps forward  \\nin these areas over the past financial year.  \\nWe opened 3 more regional centres in Glasgow, \\nManchester and Nottingham –  taking us to 12 \\noperational centres in total , with 2 more due to \\nopen in Newcastle and Portsmouth. We' re also \\nsharing office spaces with 12,000  civil servants \\nfrom 39 other departments  and organisations , \\nfully supporting the government’s ‘Places for Growth' agenda.   \\nThese modern workspaces put us in a strong position to create jobs and career opportunities in \\nevery part of the UK. Of our  over 67,500 -strong workforce, 85% are now based outside London, \\nincluding more than half of our senior civil service roles.  \\nWe’ve also been working hard to make our  IT infrastructure more secure and resilient , to \\nunderpin our online services. In the last year, we broke up our largest IT contracts into a range \\nof smaller, service -focused ones. This was the culmination of many months of work and gives \\nus greater access  to the latest technology. We’ve also completed 62% of migrations from \\nlegacy data centres  as we move to cloud- hosting.   Tackling  tax debt  \\nAmid challenging  economic  conditions,  \\nthe level of tax debt has grown since  2019  \\nto 2020 . You can read more  about  this on \\npage 19.  \\nWe’re  support ing customers  to get out of \\ntax debt.  At the end of 2022 to 2023 we \\nwere  managing £5.7 billion of debt \\nthrough time to pay arrangements , in \\nwhich  customers  pay off their debt in \\naffordable and sustainable instalments.   \\nAround 90% of these  complete \\nsuccessfully.  For those who can pay but \\nare not doing so, we introduced penalty  \\nand interest  reform  for VAT from January  \\n2023,  to encourage payment  on time and \\nquicker  debt resolution . \\n \\n \\n \\n  \\n \\nPLACEHO\\nLDER \\nIMAGE \\nHM Revenue and Customs  – Annual Report and Accounts 202 2 to 202 3 \\n  \\n14  Performance overview  \\nWe run one of the largest and most complex IT \\nestates in the UK, so updating our technology will \\nalways be a continuous process. But thanks to our \\nwork this year , our systems will perform better and   \\nbe easier to update –  benefitting customers and \\ncolleagues alike.  \\nLooking ahead  \\nWe’ve faced some tough operating conditions during \\n2022 to 2023 and there is important action we still \\nneed to take to meet rapidly changing customer \\nneeds and economic circumstances. We also understand the need to work with our customers and \\nstakeholders to fix problems and find shared \\nsolutions.  \\nOur long- term aim is clear : offering more and better \\nonline services so they simplify things for our \\ncustomers, doing more to remove the causes of unnecessary customer contact and improving compliance.   \\nI’m confident that by working together according to our values  and our Charter principles , we’ll continue \\nmaking a vital difference for our customers and for the \\nUK as a whole.  \\n \\n \\n  \\n \\n \\n \\nJim Harra   \\nChief Executive and First Permanent Secretary    \\n6 July 2023  Our key performance metrics  \\nWhere  we have an internal  target  or service \\nstandard,  this is shown in brackets   \\nCompliance  yield   \\n2022 to 2023  £34.0bn  (£36bn)  \\n2021 to 2022  £30.8bn  \\n Tax credits  error  and fraud   \\n(2021 to 2022  data is latest  available)  \\n2021 to 2022  4.5% (5%) \\n 2020 to 2021  4.7% \\n  Customer  satisfaction  \\n2022 to 2023  79.2% (80%)  \\n2021 to 2022  82.0%  \\n   Customer  correspondence  \\ncleared  within  15 working  days  \\n2022 to 2023  72.7% (80%)  \\n2021 to 2022  45.5%  \\n   Net easy  \\n  \\n2022 to 2023  +59.8  (+70) \\n2021 to 2022  +65.5   \\n   Telephones:  adviser  attempts  \\nhandled  \\n2022 to 2023  71.1% (85%)  \\n2021 to 2022  77.3%  \\n   Debt  balance   \\n2022 to 2023  £45.9bn  \\n2021 to 2022  £41.6bn  \\n  Time  to Pay arrangements  \\n2022 to 2023  £5.7bn  \\n2021 to 2022  £5.4bn  \\n  Employee  engagement  index  \\n2022 to 2023  59%  \\n2021 to 2022  59%  \\n \\n \\n\""
            ]
          },
          "execution_count": 41,
          "metadata": {},
          "output_type": "execute_result"
        }
      ],
      "source": [
        "article_txt"
      ]
    },
    {
      "cell_type": "markdown",
      "id": "a6a20e1c",
      "metadata": {
        "id": "a6a20e1c"
      },
      "source": [
        "Let's run our completion task with our LLM"
      ]
    },
    {
      "cell_type": "code",
      "execution_count": 93,
      "id": "98cbafb5",
      "metadata": {
        "colab": {
          "base_uri": "https://localhost:8080/"
        },
        "id": "98cbafb5",
        "outputId": "0d9b477c-6e80-46ee-f351-5a727c9661fe"
      },
      "outputs": [
        {
          "name": "stdout",
          "output_type": "stream",
          "text": [
            "CPU times: user 330 ms, sys: 41.9 ms, total: 372 ms\n",
            "Wall time: 35.2 s\n"
          ]
        }
      ],
      "source": [
        "%%time\n",
        "def run_completion(prompt, results, ctext):\n",
        "    try:\n",
        "      system = \"You are a helpful business analyst who extracts relevant information and store them on a Neo4j Knowledge Graph\"\n",
        "      pr = Template(prompt).substitute(ctext=ctext)\n",
        "      res = process_gpt(system, pr)\n",
        "      results.append(json.loads(res.replace(\"\\'\", \"'\")))\n",
        "      return results\n",
        "    except Exception as e:\n",
        "        print(e)\n",
        "\n",
        "prompts = [prompt1]\n",
        "results = []\n",
        "for p in prompts:\n",
        "  results = run_completion(p, results, clean_text(article_txt))\n"
      ]
    },
    {
      "cell_type": "markdown",
      "id": "-GJelkUdNs2a",
      "metadata": {
        "id": "-GJelkUdNs2a"
      },
      "source": [
        "#### Results"
      ]
    },
    {
      "cell_type": "code",
      "execution_count": 94,
      "id": "AamYyrvGbr66",
      "metadata": {
        "colab": {
          "base_uri": "https://localhost:8080/"
        },
        "id": "AamYyrvGbr66",
        "outputId": "14fcc566-a2e1-499f-bca1-96e88a9b6fe2"
      },
      "outputs": [
        {
          "data": {
            "text/plain": [
              "[{'entities': [{'label': 'Paper',\n",
              "    'id': 'whitePaper1',\n",
              "    'name': 'white paper',\n",
              "    'summary': \"A white paper discussing the UK's approach to becoming a science and technology superpower by 2030, with a focus on AI.\"},\n",
              "   {'label': 'Country',\n",
              "    'id': 'uk1',\n",
              "    'name': 'uk',\n",
              "    'summary': 'The United Kingdom, aiming to become a science and technology superpower by 2030.'},\n",
              "   {'label': 'Technology',\n",
              "    'id': 'ai1',\n",
              "    'name': 'artificial intelligence',\n",
              "    'summary': \"Artificial Intelligence (AI) is a key technology that will play a central part in the UK's goal to become a science and technology superpower.\"},\n",
              "   {'label': 'FinancialValue',\n",
              "    'id': 'investment1',\n",
              "    'name': '£2.5 billion investment',\n",
              "    'summary': 'The UK has invested over £2.5 billion in AI since 2014.'},\n",
              "   {'label': 'FinancialValue',\n",
              "    'id': 'investment2',\n",
              "    'name': '£110 million investment',\n",
              "    'summary': 'The UK has announced £110 million for the AI Tech Missions Fund.'},\n",
              "   {'label': 'FinancialValue',\n",
              "    'id': 'investment3',\n",
              "    'name': '£900 million investment',\n",
              "    'summary': 'The UK has announced £900 million to establish a new AI Research Resource and to develop an exascale supercomputer.'},\n",
              "   {'label': 'FinancialValue',\n",
              "    'id': 'investment4',\n",
              "    'name': '£8 million investment',\n",
              "    'summary': 'The UK has announced a new £8 million AI Global Talent Network.'},\n",
              "   {'label': 'FinancialValue',\n",
              "    'id': 'investment5',\n",
              "    'name': '£117 million investment',\n",
              "    'summary': 'The UK has announced £117 million of existing funding to create hundreds of new PhDs for AI researchers.'},\n",
              "   {'label': 'Organization',\n",
              "    'id': 'nhs1',\n",
              "    'name': 'nhs',\n",
              "    'summary': 'The National Health Service (NHS) of the UK, which is expected to benefit from AI technologies.'},\n",
              "   {'label': 'Person',\n",
              "    'id': 'sirPatrickVallance1',\n",
              "    'name': 'sir patrick vallance',\n",
              "    'summary': 'Sir Patrick Vallance, who made a key recommendation to establish a regulatory sandbox for AI.'}],\n",
              "  'relationships': ['whitePaper1|MENTIONS|uk1',\n",
              "   'whitePaper1|MENTIONS|ai1',\n",
              "   'whitePaper1|MENTIONS|investment1',\n",
              "   'whitePaper1|MENTIONS|investment2',\n",
              "   'whitePaper1|MENTIONS|investment3',\n",
              "   'whitePaper1|MENTIONS|investment4',\n",
              "   'whitePaper1|MENTIONS|investment5',\n",
              "   'whitePaper1|MENTIONS|nhs1',\n",
              "   'whitePaper1|MENTIONS|sirPatrickVallance1',\n",
              "   'ai1|RELATES_TO|uk1',\n",
              "   'ai1|RELATES_TO|investment1',\n",
              "   'ai1|RELATES_TO|investment2',\n",
              "   'ai1|RELATES_TO|investment3',\n",
              "   'ai1|RELATES_TO|investment4',\n",
              "   'ai1|RELATES_TO|investment5',\n",
              "   'ai1|RELATES_TO|nhs1']}]"
            ]
          },
          "execution_count": 94,
          "metadata": {},
          "output_type": "execute_result"
        }
      ],
      "source": [
        "results"
      ]
    },
    {
      "cell_type": "markdown",
      "id": "dc40d897",
      "metadata": {
        "id": "dc40d897"
      },
      "source": [
        "## Neo4j Cypher Generation"
      ]
    },
    {
      "cell_type": "markdown",
      "id": "ee2a861f",
      "metadata": {
        "id": "ee2a861f"
      },
      "source": [
        "The entities & relationships we got from the LLM have to be transformed to Cypher so we can ingest into Neo4j"
      ]
    },
    {
      "cell_type": "code",
      "execution_count": 95,
      "id": "7b7fe8c3",
      "metadata": {
        "id": "7b7fe8c3"
      },
      "outputs": [],
      "source": [
        "#pre-processing results for uploading into Neo4j - helper function:\n",
        "def get_prop_str(prop_dict, _id):\n",
        "    s = []\n",
        "    for key, val in prop_dict.items():\n",
        "      if key != 'label' and key != 'id':\n",
        "         s.append(_id+\".\"+key+' = \"'+str(val).replace('\\\"', '\"').replace('\"', '\\\"')+'\"')\n",
        "    return ' ON CREATE SET ' + ','.join(s)\n",
        "\n",
        "def get_cypher_compliant_var(_id):\n",
        "    return \"_\"+ re.sub(r'[\\W_]', '', _id)\n",
        "\n",
        "def generate_cypher(in_json):\n",
        "    e_map = {}\n",
        "    e_stmt = []\n",
        "    r_stmt = []\n",
        "    e_stmt_tpl = Template(\"($id:$label{id:'$key'})\")\n",
        "    r_stmt_tpl = Template(\"\"\"\n",
        "      MATCH $src\n",
        "      MATCH $tgt\n",
        "      MERGE ($src_id)-[:$rel]->($tgt_id)\n",
        "    \"\"\")\n",
        "    for obj in in_json:\n",
        "      for j in obj['entities']:\n",
        "          props = ''\n",
        "          label = j['label']\n",
        "          id = j['id']\n",
        "          if label == 'Case':\n",
        "                id = 'c'+str(time.time_ns())\n",
        "          elif label == 'Person':\n",
        "                id = 'p'+str(time.time_ns())\n",
        "          varname = get_cypher_compliant_var(j['id'])\n",
        "          stmt = e_stmt_tpl.substitute(id=varname, label=label, key=id)\n",
        "          e_map[varname] = stmt\n",
        "          e_stmt.append('MERGE '+ stmt + get_prop_str(j, varname))\n",
        "\n",
        "      for st in obj['relationships']:\n",
        "          rels = st.split(\"|\")\n",
        "          src_id = get_cypher_compliant_var(rels[0].strip())\n",
        "          rel = rels[1].strip()\n",
        "          tgt_id = get_cypher_compliant_var(rels[2].strip())\n",
        "          stmt = r_stmt_tpl.substitute(\n",
        "              src_id=src_id, tgt_id=tgt_id, src=e_map[src_id], tgt=e_map[tgt_id], rel=rel)\n",
        "\n",
        "          r_stmt.append(stmt)\n",
        "\n",
        "    return e_stmt, r_stmt"
      ]
    },
    {
      "cell_type": "code",
      "execution_count": 97,
      "id": "34f74bf0",
      "metadata": {
        "id": "34f74bf0"
      },
      "outputs": [],
      "source": [
        "ent_cyp, rel_cyp = generate_cypher(results)"
      ]
    },
    {
      "cell_type": "markdown",
      "id": "7wTjJhaeDE1x",
      "metadata": {
        "id": "7wTjJhaeDE1x"
      },
      "source": [
        "_Optional - View the generated Cypher Statements_"
      ]
    },
    {
      "cell_type": "code",
      "execution_count": 98,
      "id": "a8zDIAjYcDfH",
      "metadata": {
        "colab": {
          "base_uri": "https://localhost:8080/"
        },
        "id": "a8zDIAjYcDfH",
        "outputId": "ad9d1caf-41ef-4542-f1d5-02975c60b7c0"
      },
      "outputs": [
        {
          "data": {
            "text/plain": [
              "['MERGE (_whitePaper1:Paper{id:\\'whitePaper1\\'}) ON CREATE SET _whitePaper1.name = \"white paper\",_whitePaper1.summary = \"A white paper discussing the UK\\'s approach to becoming a science and technology superpower by 2030, with a focus on AI.\"',\n",
              " 'MERGE (_uk1:Country{id:\\'uk1\\'}) ON CREATE SET _uk1.name = \"uk\",_uk1.summary = \"The United Kingdom, aiming to become a science and technology superpower by 2030.\"',\n",
              " 'MERGE (_ai1:Technology{id:\\'ai1\\'}) ON CREATE SET _ai1.name = \"artificial intelligence\",_ai1.summary = \"Artificial Intelligence (AI) is a key technology that will play a central part in the UK\\'s goal to become a science and technology superpower.\"',\n",
              " 'MERGE (_investment1:FinancialValue{id:\\'investment1\\'}) ON CREATE SET _investment1.name = \"£2.5 billion investment\",_investment1.summary = \"The UK has invested over £2.5 billion in AI since 2014.\"',\n",
              " 'MERGE (_investment2:FinancialValue{id:\\'investment2\\'}) ON CREATE SET _investment2.name = \"£110 million investment\",_investment2.summary = \"The UK has announced £110 million for the AI Tech Missions Fund.\"',\n",
              " 'MERGE (_investment3:FinancialValue{id:\\'investment3\\'}) ON CREATE SET _investment3.name = \"£900 million investment\",_investment3.summary = \"The UK has announced £900 million to establish a new AI Research Resource and to develop an exascale supercomputer.\"',\n",
              " 'MERGE (_investment4:FinancialValue{id:\\'investment4\\'}) ON CREATE SET _investment4.name = \"£8 million investment\",_investment4.summary = \"The UK has announced a new £8 million AI Global Talent Network.\"',\n",
              " 'MERGE (_investment5:FinancialValue{id:\\'investment5\\'}) ON CREATE SET _investment5.name = \"£117 million investment\",_investment5.summary = \"The UK has announced £117 million of existing funding to create hundreds of new PhDs for AI researchers.\"',\n",
              " 'MERGE (_nhs1:Organization{id:\\'nhs1\\'}) ON CREATE SET _nhs1.name = \"nhs\",_nhs1.summary = \"The National Health Service (NHS) of the UK, which is expected to benefit from AI technologies.\"',\n",
              " 'MERGE (_sirPatrickVallance1:Person{id:\\'p1706799828442960198\\'}) ON CREATE SET _sirPatrickVallance1.name = \"sir patrick vallance\",_sirPatrickVallance1.summary = \"Sir Patrick Vallance, who made a key recommendation to establish a regulatory sandbox for AI.\"']"
            ]
          },
          "execution_count": 98,
          "metadata": {},
          "output_type": "execute_result"
        }
      ],
      "source": [
        "ent_cyp"
      ]
    },
    {
      "cell_type": "markdown",
      "id": "13588341",
      "metadata": {
        "id": "13588341"
      },
      "source": [
        "### Data Ingestion"
      ]
    },
    {
      "cell_type": "code",
      "execution_count": 99,
      "id": "bfe9acfc",
      "metadata": {
        "colab": {
          "base_uri": "https://localhost:8080/",
          "height": 35
        },
        "id": "bfe9acfc",
        "outputId": "8ab0352e-bd44-43b8-e8b8-123f7c62843e"
      },
      "outputs": [
        {
          "data": {
            "application/vnd.google.colaboratory.intrinsic+json": {
              "type": "string"
            },
            "text/plain": [
              "'2.5.7'"
            ]
          },
          "execution_count": 99,
          "metadata": {},
          "output_type": "execute_result"
        }
      ],
      "source": [
        "gds = GraphDataScience(connectionUrl, auth=(username, password))\n",
        "gds.version()"
      ]
    },
    {
      "cell_type": "markdown",
      "id": "1435e1c9",
      "metadata": {
        "id": "1435e1c9"
      },
      "source": [
        "Ingest the entities"
      ]
    },
    {
      "cell_type": "code",
      "execution_count": 100,
      "id": "df1f033e",
      "metadata": {
        "colab": {
          "base_uri": "https://localhost:8080/"
        },
        "id": "df1f033e",
        "outputId": "51970b2a-97e2-4fe8-aaeb-285fe4600666"
      },
      "outputs": [
        {
          "name": "stdout",
          "output_type": "stream",
          "text": [
            "CPU times: user 42.4 ms, sys: 2.29 ms, total: 44.7 ms\n",
            "Wall time: 1.04 s\n"
          ]
        }
      ],
      "source": [
        "%%time\n",
        "for e in ent_cyp:\n",
        "    gds.run_cypher(e)\n"
      ]
    },
    {
      "cell_type": "markdown",
      "id": "f52ce15b",
      "metadata": {
        "id": "f52ce15b"
      },
      "source": [
        "Ingest relationships now"
      ]
    },
    {
      "cell_type": "code",
      "execution_count": 101,
      "id": "684c1282",
      "metadata": {
        "colab": {
          "base_uri": "https://localhost:8080/"
        },
        "id": "684c1282",
        "outputId": "efda0e54-3383-4015-f35e-06c6d551d2b3"
      },
      "outputs": [
        {
          "name": "stdout",
          "output_type": "stream",
          "text": [
            "CPU times: user 89.4 ms, sys: 6.09 ms, total: 95.4 ms\n",
            "Wall time: 3.71 s\n"
          ]
        }
      ],
      "source": [
        "%%time\n",
        "for r in rel_cyp:\n",
        "    gds.run_cypher(r)"
      ]
    }
  ],
  "metadata": {
    "colab": {
      "provenance": [],
      "toc_visible": true
    },
    "environment": {
      "kernel": "python3",
      "name": "common-cpu.m106",
      "type": "gcloud",
      "uri": "gcr.io/deeplearning-platform-release/base-cpu:m106"
    },
    "kernelspec": {
      "display_name": "Python 3",
      "language": "python",
      "name": "python3"
    },
    "language_info": {
      "codemirror_mode": {
        "name": "ipython",
        "version": 3
      },
      "file_extension": ".py",
      "mimetype": "text/x-python",
      "name": "python",
      "nbconvert_exporter": "python",
      "pygments_lexer": "ipython3",
      "version": "3.7.12"
    }
  },
  "nbformat": 4,
  "nbformat_minor": 5
}
